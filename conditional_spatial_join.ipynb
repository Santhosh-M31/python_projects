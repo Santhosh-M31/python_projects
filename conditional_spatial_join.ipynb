{
 "cells": [
  {
   "cell_type": "code",
   "execution_count": 1,
   "id": "a3335d57-7632-42b6-8c29-21a683029647",
   "metadata": {
    "tags": []
   },
   "outputs": [],
   "source": [
    "import geopandas as gpd"
   ]
  },
  {
   "cell_type": "code",
   "execution_count": 2,
   "id": "8109e9e6-ca09-4561-b14b-05a54799a0f1",
   "metadata": {
    "tags": []
   },
   "outputs": [],
   "source": [
    "path = 'data/ne_10m_urban_areas.shp'\n",
    "polygons = gpd.read_file(path)"
   ]
  },
  {
   "cell_type": "code",
   "execution_count": 3,
   "id": "2ca5f308-85ad-4beb-ab1a-481456a9aff2",
   "metadata": {
    "tags": []
   },
   "outputs": [
    {
     "data": {
      "text/plain": [
       "<geopandas.sindex.PyGEOSSTRTreeIndex at 0x7f0dfe8a0f10>"
      ]
     },
     "execution_count": 3,
     "metadata": {},
     "output_type": "execute_result"
    }
   ],
   "source": [
    "path = 'data/ne_10m_populated_places_simple.shp'\n",
    "points = gpd.read_file(path)\n",
    "points.sindex"
   ]
  },
  {
   "cell_type": "code",
   "execution_count": 4,
   "id": "920c170e-9745-4f2c-8e26-8ecc922b59d2",
   "metadata": {},
   "outputs": [],
   "source": [
    "common_features = gpd.sjoin(points, polygons, how='inner', predicate='intersects')"
   ]
  },
  {
   "cell_type": "code",
   "execution_count": 5,
   "id": "7c68ac58-bd3d-4b83-9b55-b97f462aa0dd",
   "metadata": {},
   "outputs": [],
   "source": [
    "max_pop = common_features.loc[common_features.groupby('index_right')['pop_max'].idxmax()]"
   ]
  },
  {
   "cell_type": "code",
   "execution_count": 6,
   "id": "5d846736-5d8e-4fb6-bed1-3be858726de1",
   "metadata": {},
   "outputs": [
    {
     "data": {
      "text/plain": [
       "(3338, 6)"
      ]
     },
     "execution_count": 6,
     "metadata": {},
     "output_type": "execute_result"
    }
   ],
   "source": [
    "polygon_with_name = polygons.merge(max_pop[['index_right', 'name']], left_index=True, right_on='index_right', suffixes=('_polygon', '_point'))\n",
    "\n",
    "polygon_with_name = polygon_with_name.drop(columns=['index_right']).rename(columns={'name_point': 'name'}).reset_index(drop=True)\n",
    "\n",
    "polygon_with_name.shape"
   ]
  },
  {
   "cell_type": "code",
   "execution_count": 7,
   "id": "cd57ddf5-bed3-4208-a9ac-c072f02cb90f",
   "metadata": {},
   "outputs": [
    {
     "data": {
      "text/html": [
       "<div>\n",
       "<style scoped>\n",
       "    .dataframe tbody tr th:only-of-type {\n",
       "        vertical-align: middle;\n",
       "    }\n",
       "\n",
       "    .dataframe tbody tr th {\n",
       "        vertical-align: top;\n",
       "    }\n",
       "\n",
       "    .dataframe thead th {\n",
       "        text-align: right;\n",
       "    }\n",
       "</style>\n",
       "<table border=\"1\" class=\"dataframe\">\n",
       "  <thead>\n",
       "    <tr style=\"text-align: right;\">\n",
       "      <th></th>\n",
       "      <th>scalerank</th>\n",
       "      <th>featurecla</th>\n",
       "      <th>area_sqkm</th>\n",
       "      <th>min_zoom</th>\n",
       "      <th>geometry</th>\n",
       "      <th>name</th>\n",
       "    </tr>\n",
       "  </thead>\n",
       "  <tbody>\n",
       "    <tr>\n",
       "      <th>0</th>\n",
       "      <td>5</td>\n",
       "      <td>Urban area</td>\n",
       "      <td>111.989</td>\n",
       "      <td>5.0</td>\n",
       "      <td>POLYGON ((-2.44605 36.97791, -2.38020 36.84286...</td>\n",
       "      <td>Almería</td>\n",
       "    </tr>\n",
       "    <tr>\n",
       "      <th>1</th>\n",
       "      <td>7</td>\n",
       "      <td>Urban area</td>\n",
       "      <td>84.596</td>\n",
       "      <td>7.0</td>\n",
       "      <td>POLYGON ((-4.81597 36.50886, -4.81470 36.50254...</td>\n",
       "      <td>Marbella</td>\n",
       "    </tr>\n",
       "    <tr>\n",
       "      <th>2</th>\n",
       "      <td>8</td>\n",
       "      <td>Urban area</td>\n",
       "      <td>58.169</td>\n",
       "      <td>7.6</td>\n",
       "      <td>POLYGON ((-5.36449 36.22650, -5.35365 36.20481...</td>\n",
       "      <td>Gibraltar</td>\n",
       "    </tr>\n",
       "    <tr>\n",
       "      <th>3</th>\n",
       "      <td>4</td>\n",
       "      <td>Urban area</td>\n",
       "      <td>2288.255</td>\n",
       "      <td>4.0</td>\n",
       "      <td>POLYGON ((4.50190 43.90707, 4.52883 43.89243, ...</td>\n",
       "      <td>Montpellier</td>\n",
       "    </tr>\n",
       "    <tr>\n",
       "      <th>4</th>\n",
       "      <td>4</td>\n",
       "      <td>Urban area</td>\n",
       "      <td>1057.310</td>\n",
       "      <td>4.0</td>\n",
       "      <td>POLYGON ((2.95244 42.84667, 2.95497 42.84100, ...</td>\n",
       "      <td>Perpignan</td>\n",
       "    </tr>\n",
       "  </tbody>\n",
       "</table>\n",
       "</div>"
      ],
      "text/plain": [
       "   scalerank  featurecla  area_sqkm  min_zoom  \\\n",
       "0          5  Urban area    111.989       5.0   \n",
       "1          7  Urban area     84.596       7.0   \n",
       "2          8  Urban area     58.169       7.6   \n",
       "3          4  Urban area   2288.255       4.0   \n",
       "4          4  Urban area   1057.310       4.0   \n",
       "\n",
       "                                            geometry         name  \n",
       "0  POLYGON ((-2.44605 36.97791, -2.38020 36.84286...      Almería  \n",
       "1  POLYGON ((-4.81597 36.50886, -4.81470 36.50254...     Marbella  \n",
       "2  POLYGON ((-5.36449 36.22650, -5.35365 36.20481...    Gibraltar  \n",
       "3  POLYGON ((4.50190 43.90707, 4.52883 43.89243, ...  Montpellier  \n",
       "4  POLYGON ((2.95244 42.84667, 2.95497 42.84100, ...    Perpignan  "
      ]
     },
     "execution_count": 7,
     "metadata": {},
     "output_type": "execute_result"
    }
   ],
   "source": [
    "polygon_with_name.head()"
   ]
  },
  {
   "cell_type": "code",
   "execution_count": 8,
   "id": "6c602d10-e65c-488f-a508-d83c38946217",
   "metadata": {},
   "outputs": [],
   "source": [
    "polygon_with_name.to_file(\"result.shp\")"
   ]
  }
 ],
 "metadata": {
  "kernelspec": {
   "display_name": "Python 3 (ipykernel)",
   "language": "python",
   "name": "python3"
  },
  "language_info": {
   "codemirror_mode": {
    "name": "ipython",
    "version": 3
   },
   "file_extension": ".py",
   "mimetype": "text/x-python",
   "name": "python",
   "nbconvert_exporter": "python",
   "pygments_lexer": "ipython3",
   "version": "3.11.0"
  }
 },
 "nbformat": 4,
 "nbformat_minor": 5
}
