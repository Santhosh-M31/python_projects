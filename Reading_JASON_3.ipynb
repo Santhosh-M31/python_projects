{
 "cells": [
  {
   "cell_type": "markdown",
   "id": "2a8fd8e1-ef2c-4833-a666-ab32530476ee",
   "metadata": {},
   "source": [
    "# Reading JASON-3 Satellite Imaery\n",
    "\n",
    "\n",
    "Jason-3 is the satellite missions that measure the height of the ocean surface. Primary instrument is a radar altimeter. \n",
    "\n",
    "Data fromat is ``NetCDF`` format. "
   ]
  },
  {
   "cell_type": "code",
   "execution_count": 1,
   "id": "515bb1e6-8dec-44ab-b139-bafbd95e62ac",
   "metadata": {},
   "outputs": [],
   "source": [
    "import geopandas as gpd\n",
    "import pandas as pd\n",
    "from netCDF4 import Dataset"
   ]
  },
  {
   "cell_type": "code",
   "execution_count": 2,
   "id": "5ab3a737-9977-4899-a1bd-5dd0bb752e8c",
   "metadata": {},
   "outputs": [],
   "source": [
    "data_path = 'data/JA3_GPR_2PfP000_117_20160212_011109_20160212_020721.nc'"
   ]
  },
  {
   "cell_type": "code",
   "execution_count": 3,
   "id": "cc682888-e24f-4154-a629-88c7b86f02ea",
   "metadata": {},
   "outputs": [],
   "source": [
    "raw_data = Dataset(data_path)"
   ]
  },
  {
   "cell_type": "code",
   "execution_count": 4,
   "id": "f48fbb61-1976-4ed8-813f-4250a2db260e",
   "metadata": {},
   "outputs": [],
   "source": [
    "data = raw_data.groups['data_01']"
   ]
  },
  {
   "cell_type": "code",
   "execution_count": 5,
   "id": "185ebf82-aa0e-4bc0-a333-940e87e311e3",
   "metadata": {},
   "outputs": [],
   "source": [
    "parameters = list(data.variables.keys())"
   ]
  },
  {
   "cell_type": "code",
   "execution_count": 6,
   "id": "41724c01-131e-4efd-92f6-214d5b067b60",
   "metadata": {},
   "outputs": [
    {
     "name": "stdout",
     "output_type": "stream",
     "text": [
      "['time', 'time_tai', 'latitude', 'longitude', 'rad_surface_type_flag', 'surface_classification_flag', 'alt_qual', 'rad_qual', 'geo_qual', 'meteo_map_availability_flag', 'rain_flag', 'rad_rain_flag', 'ice_flag', 'rad_sea_ice_flag', 'altitude', 'model_dry_tropo_cor_zero_altitude', 'rad_wet_tropo_cor', 'mean_sea_surface_cnescls', 'mean_dynamic_topography', 'depth_or_elevation', 'inv_bar_cor', 'dac', 'ocean_tide_fes', 'solid_earth_tide', 'pole_tide', 'internal_tide', 'wind_speed_alt', 'wind_speed_alt_mle3', 'rad_water_vapor', 'rad_cloud_liquid_water']\n"
     ]
    }
   ],
   "source": [
    "print(parameters)"
   ]
  },
  {
   "cell_type": "code",
   "execution_count": 7,
   "id": "f0c5e4d7-110e-451b-8f76-757ff65fc982",
   "metadata": {},
   "outputs": [],
   "source": [
    "latitude = list(data.variables['latitude'][:])\n",
    "longitude = list(data.variables['longitude'][:])\n",
    "altitude = list(data.variables['altitude'][:])"
   ]
  },
  {
   "cell_type": "code",
   "execution_count": 8,
   "id": "e6a6a520-e361-4785-975e-9b95a8e7b6d3",
   "metadata": {},
   "outputs": [],
   "source": [
    "data_dict = {'latitude': latitude, 'longitude': longitude, 'altitude': altitude}"
   ]
  },
  {
   "cell_type": "code",
   "execution_count": 9,
   "id": "eb8f872f-e05e-477d-862e-a57ef4d678e6",
   "metadata": {},
   "outputs": [],
   "source": [
    "df = pd.DataFrame(data_dict)"
   ]
  },
  {
   "cell_type": "code",
   "execution_count": 10,
   "id": "878c31c0-2df2-4597-ae20-a7e7a855d7bd",
   "metadata": {},
   "outputs": [
    {
     "data": {
      "text/html": [
       "<div>\n",
       "<style scoped>\n",
       "    .dataframe tbody tr th:only-of-type {\n",
       "        vertical-align: middle;\n",
       "    }\n",
       "\n",
       "    .dataframe tbody tr th {\n",
       "        vertical-align: top;\n",
       "    }\n",
       "\n",
       "    .dataframe thead th {\n",
       "        text-align: right;\n",
       "    }\n",
       "</style>\n",
       "<table border=\"1\" class=\"dataframe\">\n",
       "  <thead>\n",
       "    <tr style=\"text-align: right;\">\n",
       "      <th></th>\n",
       "      <th>latitude</th>\n",
       "      <th>longitude</th>\n",
       "      <th>altitude</th>\n",
       "    </tr>\n",
       "  </thead>\n",
       "  <tbody>\n",
       "    <tr>\n",
       "      <th>0</th>\n",
       "      <td>-66.145954</td>\n",
       "      <td>173.037313</td>\n",
       "      <td>1.355772e+06</td>\n",
       "    </tr>\n",
       "    <tr>\n",
       "      <th>1</th>\n",
       "      <td>-66.145792</td>\n",
       "      <td>173.166799</td>\n",
       "      <td>1.355772e+06</td>\n",
       "    </tr>\n",
       "    <tr>\n",
       "      <th>2</th>\n",
       "      <td>-66.145515</td>\n",
       "      <td>173.296283</td>\n",
       "      <td>1.355771e+06</td>\n",
       "    </tr>\n",
       "    <tr>\n",
       "      <th>3</th>\n",
       "      <td>-66.145123</td>\n",
       "      <td>173.425764</td>\n",
       "      <td>1.355771e+06</td>\n",
       "    </tr>\n",
       "    <tr>\n",
       "      <th>4</th>\n",
       "      <td>-66.144615</td>\n",
       "      <td>173.555239</td>\n",
       "      <td>1.355771e+06</td>\n",
       "    </tr>\n",
       "  </tbody>\n",
       "</table>\n",
       "</div>"
      ],
      "text/plain": [
       "    latitude   longitude      altitude\n",
       "0 -66.145954  173.037313  1.355772e+06\n",
       "1 -66.145792  173.166799  1.355772e+06\n",
       "2 -66.145515  173.296283  1.355771e+06\n",
       "3 -66.145123  173.425764  1.355771e+06\n",
       "4 -66.144615  173.555239  1.355771e+06"
      ]
     },
     "execution_count": 10,
     "metadata": {},
     "output_type": "execute_result"
    }
   ],
   "source": [
    "df.head()"
   ]
  },
  {
   "cell_type": "code",
   "execution_count": 13,
   "id": "302e3cc6-cb9a-491c-b09a-3c7600713e53",
   "metadata": {},
   "outputs": [],
   "source": [
    "gdf = gpd.GeoDataFrame(df, geometry=gpd.points_from_xy(df.longitude, df.latitude))"
   ]
  },
  {
   "cell_type": "code",
   "execution_count": 14,
   "id": "fdcebb6a-440f-4b3a-8192-50926ac6aad2",
   "metadata": {},
   "outputs": [],
   "source": [
    "gdf.to_file(\"output/altitude.gpkg\", layer='altitude', driver=\"GPKG\")"
   ]
  },
  {
   "cell_type": "code",
   "execution_count": null,
   "id": "f813c15a-3f2f-463f-940e-3f16703d608a",
   "metadata": {},
   "outputs": [],
   "source": []
  },
  {
   "cell_type": "code",
   "execution_count": null,
   "id": "61123848-a761-4399-8923-d4d350d2cca3",
   "metadata": {},
   "outputs": [],
   "source": []
  }
 ],
 "metadata": {
  "kernelspec": {
   "display_name": "Python 3 (ipykernel)",
   "language": "python",
   "name": "python3"
  },
  "language_info": {
   "codemirror_mode": {
    "name": "ipython",
    "version": 3
   },
   "file_extension": ".py",
   "mimetype": "text/x-python",
   "name": "python",
   "nbconvert_exporter": "python",
   "pygments_lexer": "ipython3",
   "version": "3.9.7"
  }
 },
 "nbformat": 4,
 "nbformat_minor": 5
}
