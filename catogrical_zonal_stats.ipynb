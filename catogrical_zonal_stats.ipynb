{
 "cells": [
  {
   "cell_type": "markdown",
   "id": "9e0bf5da-5634-4685-a934-950803b81c0d",
   "metadata": {},
   "source": [
    "# Imports"
   ]
  },
  {
   "cell_type": "code",
   "execution_count": null,
   "id": "6b7fbffa-8af8-4cf2-9f8a-b4fb298fd77a",
   "metadata": {},
   "outputs": [],
   "source": [
    "# Planetary computer Search\n",
    "from pystac_client import Client\n",
    "import planetary_computer as pc\n",
    "\n",
    "# DataFrames - Read and Write\n",
    "import pandas as pd\n",
    "import numpy as np\n",
    "import geopandas as gpd\n",
    "\n",
    "# Raster Operations\n",
    "import rioxarray as rxr\n",
    "from xrspatial.zonal import stats\n",
    "\n",
    "# Raster Visualization (xArray can be used but computation heavy) \n",
    "import rasterio\n",
    "from rasterio import windows\n",
    "import matplotlib.pyplot as plt\n",
    "from matplotlib.colors import ListedColormap"
   ]
  },
  {
   "cell_type": "markdown",
   "id": "46cbcd15-ed5a-46c9-9a2f-7bbbd65d080d",
   "metadata": {},
   "source": [
    "# Load Boundary data"
   ]
  },
  {
   "cell_type": "code",
   "execution_count": null,
   "id": "a1e50882-7315-4f60-b637-dcffdac773fe",
   "metadata": {},
   "outputs": [],
   "source": [
    "def check_projection(geo_df):\n",
    "    current_crs = geo_df.crs \n",
    "    if current_crs == 4326 :\n",
    "        return geo_df \n",
    "    else : \n",
    "        geo_df = geo_df.to_crs(\"4326\")\n",
    "        return geo_df"
   ]
  },
  {
   "cell_type": "code",
   "execution_count": null,
   "id": "8828105b-c07c-4945-a8e2-52182147249c",
   "metadata": {},
   "outputs": [],
   "source": [
    "delhi_subdistricts = gpd.read_file('delhi.gpkg')\n",
    "delhi_subdistricts = check_projection(delhi_subdistricts)"
   ]
  },
  {
   "cell_type": "code",
   "execution_count": null,
   "id": "1de1f71d-38b7-4e22-af25-cc4e680fd28f",
   "metadata": {},
   "outputs": [],
   "source": [
    "# set this as defalt CRS, this CRS will be used for all data\n",
    "def_crs = delhi_subdistricts.crs\n",
    "def_crs"
   ]
  },
  {
   "cell_type": "code",
   "execution_count": null,
   "id": "153de40a-5774-4dac-b2fa-76125c4205c3",
   "metadata": {},
   "outputs": [],
   "source": [
    "# get bounding box around delhi region. \n",
    "# This values will be ised to query the Planetary computer data catalog\n",
    "delhi = delhi_subdistricts.dissolve()\n",
    "bounds_df = delhi.bounds.squeeze()\n",
    "bounds = [bounds_df['minx'], bounds_df['miny'], bounds_df['maxx'], bounds_df['maxy']]\n",
    "bounds"
   ]
  },
  {
   "cell_type": "markdown",
   "id": "4592f9f0-492e-4942-bcb4-7632cd0f35a5",
   "metadata": {},
   "source": [
    "# Query for Landcover (raster)"
   ]
  },
  {
   "cell_type": "code",
   "execution_count": null,
   "id": "d9c2ecc0-77e4-4f00-aa52-a8c4d96d7322",
   "metadata": {},
   "outputs": [],
   "source": [
    "catalog = Client.open(\"https://planetarycomputer.microsoft.com/api/stac/v1\")\n",
    "\n",
    "search = catalog.search(collections=[\"esa-worldcover\"], bbox=bounds)\n",
    "\n",
    "items = list(search.get_items())\n",
    "print(f\"Returned {len(items)} Items\")"
   ]
  },
  {
   "cell_type": "code",
   "execution_count": null,
   "id": "38160994-a755-4fcc-a089-c9fec971b325",
   "metadata": {},
   "outputs": [],
   "source": [
    "asset_href = items[0].assets[\"map\"].href\n",
    "print(asset_href)"
   ]
  },
  {
   "cell_type": "code",
   "execution_count": null,
   "id": "b6c14875-4c45-471c-809c-48fce30a723b",
   "metadata": {},
   "outputs": [],
   "source": [
    "signed_href = pc.sign(asset_href)"
   ]
  },
  {
   "cell_type": "markdown",
   "id": "2f17ba95-7a85-44fc-8768-9f92ca60de21",
   "metadata": {},
   "source": [
    "# Landcover visualization "
   ]
  },
  {
   "cell_type": "code",
   "execution_count": null,
   "id": "1d358c10-28cb-4b8a-ae11-a8052d95339f",
   "metadata": {},
   "outputs": [],
   "source": [
    "with rasterio.open(signed_href) as src:\n",
    "    aoi_window = windows.from_bounds(transform=src.transform, *bounds)\n",
    "    raster_data = src.read(1, window=aoi_window)\n",
    "\n",
    "fig, ax = plt.subplots(figsize=(12, 12))\n",
    "\n",
    "ax.set_axis_off()\n",
    "ax.imshow(raster_data);"
   ]
  },
  {
   "cell_type": "code",
   "execution_count": null,
   "id": "f20a0197-fa74-4a15-a558-2c81fbefd6d1",
   "metadata": {},
   "outputs": [],
   "source": [
    "with rasterio.open(signed_href) as src:\n",
    "    colormap_def = src.colormap(1)\n",
    "    colormap = [np.array(colormap_def[i]) / 255 for i in range(len(colormap_def))]\n",
    "\n",
    "cmap = ListedColormap(colormap)\n",
    "fig, ax = plt.subplots(figsize=(12, 12))\n",
    "\n",
    "ax.set_axis_off()\n",
    "ax.imshow(raster_data, cmap=cmap, vmin=0,  vmax=(len(colormap_def) - 1),  interpolation=\"nearest\");"
   ]
  },
  {
   "cell_type": "markdown",
   "id": "cbb1d6a1-0fb4-4c24-b723-4cd937733e85",
   "metadata": {},
   "source": [
    "# Converting to xArray DataFrame for computation"
   ]
  },
  {
   "cell_type": "code",
   "execution_count": null,
   "id": "ec7927d8-d292-4361-a0cf-30d04486c1ba",
   "metadata": {},
   "outputs": [],
   "source": [
    "delhi_landcover = rxr.open_rasterio(signed_href)\n",
    "delhi_landcover"
   ]
  },
  {
   "cell_type": "code",
   "execution_count": null,
   "id": "751ca8a8-67ca-4928-80dc-890c87222f1f",
   "metadata": {},
   "outputs": [],
   "source": [
    "delhi_landcover_clipped = delhi_landcover.rio.clip(delhi.geometry.values, def_crs)"
   ]
  },
  {
   "cell_type": "code",
   "execution_count": null,
   "id": "57a0d92d-0c51-4845-8069-dae01efdc50b",
   "metadata": {},
   "outputs": [],
   "source": [
    "delhi_landcover_clipped.rio.to_raster(\"delhi_landcover_clipped.tif\")"
   ]
  },
  {
   "cell_type": "code",
   "execution_count": null,
   "id": "da446055-6b15-47e8-8539-9d6905631eb5",
   "metadata": {},
   "outputs": [],
   "source": [
    "concatList = []\n",
    "for _, sub_district in delhi_subdistricts.iterrows():\n",
    "    shape_geom = sub_district['geometry']\n",
    "    raster = delhi_landcover_clipped.rio.clip(shape_geom, def_crs)\n",
    "    stats_df = stats(zones=raster[0], values=raster[0])\n",
    "    stats_df['area_km'] = stats_df['count']*10*10/1000000\n",
    "    stats_df = stats_df[['zone', 'area_km']].set_index('zone').drop(0).transpose()\n",
    "    stats_df['sub_district'] = sub_district['NAME']\n",
    "    concatList.append(stats_df)\n",
    "area_df = pd.concat(concatList)\n",
    "area_df = area_df.set_index('sub_district')"
   ]
  },
  {
   "cell_type": "code",
   "execution_count": null,
   "id": "9533efea-8979-498f-b2ac-c242bba2c83c",
   "metadata": {},
   "outputs": [],
   "source": [
    "calss_values = {\n",
    "  10: \"Trees\",\n",
    "  20: \"Shrubland\",\n",
    "  30: \"Grassland\",\n",
    "  40: \"Cropland\",\n",
    "  50: \"Built-up\",\n",
    "  60: \"Barren / sparse vegetation\",\n",
    "  70: \"Snow and ice\",\n",
    "  80: \"Open water\",\n",
    "  90: \"Herbaceous wetland\",\n",
    "  95: \"Mangroves\",\n",
    "  100: \"Moss and lichen\"\n",
    "}"
   ]
  },
  {
   "cell_type": "code",
   "execution_count": null,
   "id": "8ebf9bbb-463e-484c-ac87-f3b1256fdc71",
   "metadata": {},
   "outputs": [],
   "source": [
    "area_df = area_df.rename(columns=calss_values)\n",
    "area_df.head()"
   ]
  },
  {
   "cell_type": "markdown",
   "id": "9ba504ac-89cf-4a83-9d28-1cc7f7e8173a",
   "metadata": {
    "tags": []
   },
   "source": [
    "# Export the csv file with area value for each category"
   ]
  },
  {
   "cell_type": "code",
   "execution_count": null,
   "id": "3410b29b-91d0-42cc-8a12-5db7dfed3081",
   "metadata": {},
   "outputs": [],
   "source": [
    "area_df.to_csv('delhi_landcover_area_sqkm.csv')"
   ]
  }
 ],
 "metadata": {
  "kernelspec": {
   "display_name": "Python 3 (ipykernel)",
   "language": "python",
   "name": "python3"
  },
  "language_info": {
   "codemirror_mode": {
    "name": "ipython",
    "version": 3
   },
   "file_extension": ".py",
   "mimetype": "text/x-python",
   "name": "python",
   "nbconvert_exporter": "python",
   "pygments_lexer": "ipython3",
   "version": "3.8.13"
  }
 },
 "nbformat": 4,
 "nbformat_minor": 5
}
